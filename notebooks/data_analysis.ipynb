{
 "cells": [
  {
   "cell_type": "code",
   "id": "initial_id",
   "metadata": {
    "collapsed": true
   },
   "source": [
    "import pandas as pd\n",
    "\n",
    "pd.set_option(\"display.max_columns\", None)\n",
    "pd.set_option(\"display.max_rows\", None)\n",
    "pd.set_option(\"display.width\", None)"
   ],
   "outputs": [],
   "execution_count": null
  },
  {
   "metadata": {},
   "cell_type": "markdown",
   "source": "### Загрузка таблиц",
   "id": "a32b0be0d4a49ef"
  },
  {
   "metadata": {},
   "cell_type": "code",
   "source": [
    "df_cashflow = pd.read_csv(\"../data/processed/cashflow.csv\")\n",
    "df_cashflow"
   ],
   "id": "f1ecda971677cbf1",
   "outputs": [],
   "execution_count": null
  },
  {
   "metadata": {},
   "cell_type": "code",
   "source": [
    "df_stocks = pd.read_csv(\"../data/processed/stocks.csv\")\n",
    "df_stocks"
   ],
   "id": "2d3cab95fddecda6",
   "outputs": [],
   "execution_count": null
  },
  {
   "metadata": {},
   "cell_type": "code",
   "source": [
    "df_catalog = pd.read_csv(\"../data/processed/catalog.csv\")\n",
    "df_catalog"
   ],
   "id": "29e7ce4dc23427fa",
   "outputs": [],
   "execution_count": null
  },
  {
   "metadata": {},
   "cell_type": "code",
   "source": [
    "df_contracts = pd.read_csv(\"../data/processed/contracts.csv\")\n",
    "df_contracts"
   ],
   "id": "278bfd3ba8cf4b64",
   "outputs": [],
   "execution_count": null
  },
  {
   "metadata": {},
   "cell_type": "markdown",
   "source": [
    "### Изучение возможности сопоставить имена активов в ведомостях с именами в справочнике КПГЗ\n",
    "\n",
    "Проблема такова:\n",
    "1. В ведомостях не используются никакие коды активов\n",
    "2. Эти коды необходимы как для группирования товаров перед прогнозированием, так и, вероятнее всего, для отправки JSON-файлов\n",
    "3.Коды предоставлены только в справочнике, но единственное поле, содержащееся везде - Название Актива\n",
    "\n",
    "То есть нужно решить проблему сопоставления Названий из ведомостей с Названиями из справочника, но:\n",
    "1. В справочнике может не содержаться записи о каком-то активе\n",
    "2. Справочник может содержать дополнительную информацию, например, характеристики актива\n",
    "3. Справочник и ведомости подвержены человеческому фактору: \n",
    "    - Лишние символы (пробелы, запятые, точки и т.п.) \n",
    "    - Лексические ошибки\n",
    "\n",
    "**Задача: сопоставить максимально возможному числу записей из ведомостей их коды КПГЗ и СПГЗ из справочника.**\n",
    "\n",
    "Ниже - поиск подхода"
   ],
   "id": "296d2e103bfd379c"
  },
  {
   "metadata": {},
   "cell_type": "code",
   "source": [
    "# Подготовка серий\n",
    "cashflow_names: pd.Series = pd.Series(df_cashflow.Name.unique())\n",
    "stocks_names: pd.Series = pd.Series(df_stocks.Name.unique())\n",
    "all_names: pd.Series = pd.Series(pd.concat([cashflow_names, stocks_names]).unique())\n",
    "catalog_names: pd.Series = pd.Series(df_catalog.Name.unique())"
   ],
   "id": "6279eb05a33ad57d",
   "outputs": [],
   "execution_count": null
  },
  {
   "metadata": {},
   "cell_type": "code",
   "source": [
    "# Удаление небуквенных символов + полное совпадение\n",
    "all_names_clean = all_names.str.replace(\"[^a-zA-Zа-яА-Я]\", ' ', regex=True)\n",
    "catalog_names_clean = catalog_names.str.replace(\"[^a-zA-Zа-яА-Я]\", '', regex=True)\n",
    "\n",
    "full_matches = all_names[all_names.isin(catalog_names)]\n",
    "percent1 = len(full_matches) / len(all_names) * 100\n",
    "print(f\"Полных совпадений: {len(full_matches)}/{len(all_names)} ({percent1:.2f}%)\")"
   ],
   "id": "7735f0ee9f79e3b0",
   "outputs": [],
   "execution_count": null
  },
  {
   "metadata": {},
   "cell_type": "code",
   "source": [
    "# Совпадения хотя бы по одному слову\n",
    "def get_names_by_is_any_word_in(search: pd.Series, reference: pd.Series):\n",
    "    result = []\n",
    "    for s_name in search:\n",
    "        s_words = set(s_name.split())\n",
    "        for r_name in reference:\n",
    "            r_words = set(r_name.split())\n",
    "            if s_words & r_words:\n",
    "               result.append(s_name)\n",
    "               break\n",
    "    return result\n",
    "\n",
    "partial_matches = get_names_by_is_any_word_in(all_names, catalog_names)\n",
    "percent2 = len(partial_matches) / len(all_names) * 100\n",
    "print(f\"Совпадений хотя бы по слову: {len(partial_matches)}/{len(all_names)} ({percent2:.2f}%)\")"
   ],
   "id": "704b8f44e5a6922d",
   "outputs": [],
   "execution_count": null
  },
  {
   "metadata": {},
   "cell_type": "markdown",
   "source": [
    "### Выводы\n",
    "Названия часто содержат в себе единицы измерения и числа. Придумывать алгоритм очистки данных и последующего поиска с нуля - долго и нерационально, из-за такой проблемы частичные совпадения дают резкий рост совпадений. Хороший вариант - применение алгоритмов нечеткого поиска"
   ],
   "id": "bf5c842d8e9652db"
  },
  {
   "metadata": {},
   "cell_type": "markdown",
   "source": [
    "### Изучение нечеткого сравнения. Расстояния Левенштейна и библиотека fuzzywuzzy\n",
    "Нужные библиотеки и их лицензии (все с открытым лицензированием):\n",
    "- [thefuzz](https://github.com/seatgeek/thefuzz]) - MIT - Нечеткое сравнение строк с применением расстояний Левенштейна\n",
    "- [rapidfuzz](https://github.com/rapidfuzz/RapidFuzz) - MIT - Основа thefuzz\n",
    "- [levenshtein](https://github.com/rapidfuzz/Levenshtein) - GNU GPl-2.0 - Реализация расчета расстояний на C, ускоряет расчеты в 4-10 раз\n",
    "\n",
    "К базовым алгоритмам сравнения библиотеки относятся\n",
    "\n",
    "| Функция                  | Описание                                                            |\n",
    "|--------------------------|---------------------------------------------------------------------|\n",
    "| ratio                    | Полностью сравнивает строки между собой                             |\n",
    "| partial_ratio            | Частично сравнивает строки. Чувствителен к регистру                 |\n",
    "| token_sort_ratio         | Сравнивает токены строк. Независим от порядка и регистра            |\n",
    "| token_set_ratio          | Сравнивает уникальные токены строк. Независим от порядка и регистра |\n",
    "| partial_token_sort_ratio | Частичный token_sort_ratio                                          |\n",
    "| partial_token_set_ratio  | Частичный token_set                                                 |\n",
    "\n",
    "Так же есть более сложные и интересные WRatio, UWRatio, QRatio, UQRatio.\n",
    "В статьях часто рекомендуют использовать именно WRatio"
   ],
   "id": "775099651376d3ad"
  },
  {
   "metadata": {},
   "cell_type": "code",
   "source": "from fuzzywuzzy import fuzz",
   "id": "60f6df37cb6a16e3",
   "outputs": [],
   "execution_count": null
  },
  {
   "metadata": {},
   "cell_type": "code",
   "source": [
    "# Пример работы с fuzzywuzzy\n",
    "\n",
    "# ratio() Полное сравнение строк\n",
    "print(\"ratio\")\n",
    "print(\"'Привет мир', 'Привет мир':\", fuzz.ratio(\"Привет мир\", \"Привет мир\"))\n",
    "print(\"'Привет мир', 'Привет кир':\", fuzz.ratio(\"Привет мир\", \"Привет кир\"))\n",
    "print()\n",
    "\n",
    "# partial_ratio() Частичное сравнение строк. Вроде поиска подстроки с учетом регистра\n",
    "print(\"partial_ratio\")\n",
    "print(\"'Привет мир', 'Привет мир!!!':\", fuzz.partial_ratio(\"Привет мир\", \"Привет мир!!!\"))\n",
    "print(\"'Привет мир', 'Всем своим салам, остальным - Привет мир!!!':\", fuzz.partial_ratio(\"Привет мир\", \"Всем своим салам, остальным - Привет мир!!!\"))\n",
    "print(\"'Привет мир', 'привет мир':\", fuzz.partial_ratio(\"Привет мир\", \"привет мир\"))\n",
    "print()\n",
    "\n",
    "# token_sort_ratio() Полное сравнение по токенам. Не зависит от порядка слов и регистра символов\n",
    "print(\"token_sort_ratio\")\n",
    "print(\"'Привет наш мир', 'мир наш Привет':\", fuzz.token_sort_ratio(\"Привет наш мир\", \"мир наш Привет\"))\n",
    "print(\"'Привет наш мир', 'мир наш любимый Привет':\", fuzz.token_sort_ratio(\"Привет наш мир\", \"мир наш любимый Привет\"))\n",
    "print(\"'1 2 Привет наш мир', '1 мир наш 2 ПриВЕт':\", fuzz.token_sort_ratio(\"1 2 Привет наш мир\", \"1 мир наш 2 ПриВЕт\"))\n",
    "print(\"'1 2 Привет наш мир', '1 мир наш 2 ПриВЕт Лишнее Слово!':\", fuzz.token_sort_ratio(\"1 2 Привет наш мир\", \"1 мир наш 2 ПриВЕт Лишнее Слово!\"))\n",
    "print()\n",
    "\n",
    "# token_set_ratio() Полное сравнение по токенам. Не зависит от порядка и регистра символов, не учитывает повторяющиеся слова\n",
    "print(\"token_set_ratio\")\n",
    "print(\"'Привет наш мир', 'мир мир наш наш наш ПриВЕт':\", fuzz.token_set_ratio(\"Привет наш мир\", \"мир, мир, наш наш наш ПриВЕт\"))\n",
    "\n",
    "# WRatio()\n",
    "print(\"WRatio\")\n",
    "print(\"'Привет наш мир', '!ПриВЕт наш мир!':\", fuzz.WRatio(\"Привет наш мир\", \"!ПриВЕт наш мир!\"))"
   ],
   "id": "662b13b5169c9611",
   "outputs": [],
   "execution_count": null
  },
  {
   "metadata": {},
   "cell_type": "code",
   "source": [
    "# Выборки для тестирования\n",
    "data1: pd.Series = cashflow_names[:100]\n",
    "key1 = \"Конверт C4\"\n",
    "target1 = 1\n",
    "\n",
    "data2: pd.Series = stocks_names[:100]\n",
    "key2 = \"Клей Момент\"\n",
    "target2 = 2\n",
    "\n",
    "data3: pd.Series = catalog_names[:100]\n",
    "key3 = \"Доска brauberg\"\n",
    "target3 = 4 \n",
    "\n",
    "datasets = [\n",
    "    [1, key1, data1, target1],\n",
    "    [2, key2, data2, target2],\n",
    "    [3, key3, data3, target3]\n",
    "]\n"
   ],
   "id": "7cef286a66c159ac",
   "outputs": [],
   "execution_count": null
  },
  {
   "metadata": {},
   "cell_type": "code",
   "source": [
    "# Методы сравнения. partial_ratio() и ratio() явно не интересны\n",
    "methods = [\n",
    "    fuzz.UWRatio, fuzz.WRatio,\n",
    "    fuzz.QRatio, fuzz.UQRatio,\n",
    "    fuzz.token_sort_ratio, fuzz.token_set_ratio,\n",
    "    fuzz.partial_token_sort_ratio, fuzz.partial_token_set_ratio\n",
    "]"
   ],
   "id": "9d1635694811c09d",
   "outputs": [],
   "execution_count": null
  },
  {
   "metadata": {},
   "cell_type": "code",
   "source": [
    "# Перебор методов и порога сравнения для всех наборов\n",
    "error_tolerance = 1\n",
    "print(\"Допустимая погрешность:\", error_tolerance)\n",
    "for method in methods:\n",
    "    for param in range(100):\n",
    "        result = []\n",
    "        # Проходим по датасетам, если всё в пределах погрешности - сохраняем результат\n",
    "        for i, key, data, target in datasets:\n",
    "            matches = data[data.apply(lambda x: method(x, key)) > param]\n",
    "            if (target - error_tolerance) <= len(matches) <= (target + error_tolerance):\n",
    "                result.append([method, param, matches, key, data, target])\n",
    "            else:\n",
    "                result = []\n",
    "                break\n",
    "        else:\n",
    "            print(f\"{result[0][0].__name__} > {result[0][1]}:\")\n",
    "            for x in result:\n",
    "                print(f\"\\t{len(x[2])}/{x[-1]} of {x[3]}\")"
   ],
   "id": "5cf1168f9ece8ca9",
   "outputs": [],
   "execution_count": null
  }
 ],
 "metadata": {
  "kernelspec": {
   "display_name": "Python 3",
   "language": "python",
   "name": "python3"
  },
  "language_info": {
   "codemirror_mode": {
    "name": "ipython",
    "version": 2
   },
   "file_extension": ".py",
   "mimetype": "text/x-python",
   "name": "python",
   "nbconvert_exporter": "python",
   "pygments_lexer": "ipython2",
   "version": "2.7.6"
  }
 },
 "nbformat": 4,
 "nbformat_minor": 5
}
